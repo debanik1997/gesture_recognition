{
 "cells": [
  {
   "cell_type": "code",
   "execution_count": 2,
   "metadata": {},
   "outputs": [],
   "source": [
    "import cv2\n",
    "import numpy as np\n",
    "from keras.models import load_model\n",
    "model = load_model(\"./models/VGG_cross_validated.h5\") # open saved model/weights from .h5 file"
   ]
  },
  {
   "cell_type": "code",
   "execution_count": 11,
   "metadata": {},
   "outputs": [],
   "source": [
    "def predict_rgb_image_vgg(image, model):\n",
    "    image = np.array(image, dtype='float32')\n",
    "    image /= 255\n",
    "    pred_array = model.predict(image)\n",
    "    \n",
    "    gesture_names = {0: 'C',\n",
    "                     1: 'Fist',\n",
    "                     2: 'L',\n",
    "                     3: 'Okay',\n",
    "                     4: 'Palm',\n",
    "                     5: 'Peace'}\n",
    "\n",
    "    # model.predict() returns an array of probabilities - \n",
    "    # np.argmax grabs the index of the highest probability.\n",
    "    result = gesture_names[np.argmax(pred_array)]\n",
    "\n",
    "    # A bit of magic here - the score is a float, but I wanted to\n",
    "    # display just 2 digits beyond the decimal point.\n",
    "    print(pred_array)\n",
    "    score = float(\"%0.2f\" % (max(pred_array[0]) * 100))\n",
    "    print('Result: ' + str(result) + ', Score: ' + str(score))\n",
    "    return result, score"
   ]
  },
  {
   "cell_type": "code",
   "execution_count": 16,
   "metadata": {},
   "outputs": [
    {
     "name": "stdout",
     "output_type": "stream",
     "text": [
      "(576, 640, 3)\n",
      "[[5.5081528e-01 7.1773631e-03 4.4200262e-01 2.6825383e-06 2.1198171e-06]]\n",
      "Result: C, Score: 55.08\n"
     ]
    }
   ],
   "source": [
    "thresh = cv2.imread(\"C.jpg\")\n",
    "print(thresh.shape)\n",
    "\n",
    "# target = np.stack((thresh,) * 3, axis=-1)\n",
    "target = cv2.resize(thresh, (224, 224))\n",
    "target = target.reshape(1, 224, 224, 3)\n",
    "prediction, score = predict_rgb_image_vgg(target, model)"
   ]
  },
  {
   "cell_type": "code",
   "execution_count": 18,
   "metadata": {},
   "outputs": [
    {
     "name": "stdout",
     "output_type": "stream",
     "text": [
      "(576, 640, 3)\n",
      "[[1.1269913e-08 9.9999726e-01 2.4549338e-06 2.5894248e-12 2.0137954e-07]]\n",
      "Result: Fist, Score: 100.0\n"
     ]
    }
   ],
   "source": [
    "thresh = cv2.imread(\"L.jpg\")\n",
    "print(thresh.shape)\n",
    "\n",
    "# target = np.stack((thresh,) * 3, axis=-1)\n",
    "target = cv2.resize(thresh, (224, 224))\n",
    "target = target.reshape(1, 224, 224, 3)\n",
    "prediction, score = predict_rgb_image_vgg(target, model)"
   ]
  },
  {
   "cell_type": "code",
   "execution_count": null,
   "metadata": {},
   "outputs": [],
   "source": []
  }
 ],
 "metadata": {
  "kernelspec": {
   "display_name": "Python 2",
   "language": "python",
   "name": "python2"
  },
  "language_info": {
   "codemirror_mode": {
    "name": "ipython",
    "version": 2
   },
   "file_extension": ".py",
   "mimetype": "text/x-python",
   "name": "python",
   "nbconvert_exporter": "python",
   "pygments_lexer": "ipython2",
   "version": "2.7.15"
  }
 },
 "nbformat": 4,
 "nbformat_minor": 2
}
